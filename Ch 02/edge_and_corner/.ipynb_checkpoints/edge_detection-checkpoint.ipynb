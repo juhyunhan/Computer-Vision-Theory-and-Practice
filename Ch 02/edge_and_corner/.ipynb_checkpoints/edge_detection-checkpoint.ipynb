{
 "cells": [
  {
   "cell_type": "code",
   "execution_count": 1,
   "id": "a195ffe0",
   "metadata": {},
   "outputs": [],
   "source": [
    "import cv2\n",
    "from matplotlib import pyplot as plt\n",
    "import numpy as np\n",
    "\n",
    "import torch\n",
    "import torchvision\n",
    "import kornia as K"
   ]
  },
  {
   "cell_type": "code",
   "execution_count": null,
   "id": "f58438ac",
   "metadata": {},
   "outputs": [],
   "source": [
    "img_bgr: np.ndarray = cv2.imread('doraemon.png', cv2.IMREAD_COLOR)"
   ]
  }
 ],
 "metadata": {
  "kernelspec": {
   "display_name": "e2desc",
   "language": "python",
   "name": "e2desc"
  },
  "language_info": {
   "codemirror_mode": {
    "name": "ipython",
    "version": 3
   },
   "file_extension": ".py",
   "mimetype": "text/x-python",
   "name": "python",
   "nbconvert_exporter": "python",
   "pygments_lexer": "ipython3",
   "version": "3.9.7"
  }
 },
 "nbformat": 4,
 "nbformat_minor": 5
}
